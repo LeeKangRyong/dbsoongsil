{
 "cells": [
  {
   "cell_type": "code",
   "execution_count": null,
   "id": "88104af0-1473-4e51-8080-520b7b7a845d",
   "metadata": {},
   "outputs": [],
   "source": [
    "import pandas as pd\n",
    "df = pd.read_csv('gyms.csv')"
   ]
  },
  {
   "cell_type": "code",
   "execution_count": null,
   "id": "9a466809-30c2-4993-979d-4e3430ce5a51",
   "metadata": {},
   "outputs": [],
   "source": [
    "df"
   ]
  },
  {
   "cell_type": "code",
   "execution_count": null,
   "id": "b8c7829d-e400-4f23-b020-714af412d251",
   "metadata": {},
   "outputs": [],
   "source": []
  }
 ],
 "metadata": {
  "kernelspec": {
   "display_name": "Python 3 (ipykernel)",
   "language": "python",
   "name": "python3"
  },
  "language_info": {
   "codemirror_mode": {
    "name": "ipython",
    "version": 3
   },
   "file_extension": ".py",
   "mimetype": "text/x-python",
   "name": "python",
   "nbconvert_exporter": "python",
   "pygments_lexer": "ipython3",
   "version": "3.12.4"
  }
 },
 "nbformat": 4,
 "nbformat_minor": 5
}
